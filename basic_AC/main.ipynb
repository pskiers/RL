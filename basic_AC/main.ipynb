{
 "cells": [
  {
   "cell_type": "code",
   "execution_count": 20,
   "metadata": {},
   "outputs": [],
   "source": [
    "import gymnasium as gym\n",
    "import torch\n",
    "from torch import nn as nn\n",
    "from tqdm import tqdm"
   ]
  },
  {
   "cell_type": "code",
   "execution_count": 21,
   "metadata": {},
   "outputs": [],
   "source": [
    "class ActorModel(nn.Module):\n",
    "    def __init__(self, observation_size, hidden_size, out_size) -> None:\n",
    "        super().__init__()\n",
    "        self.activation = nn.LeakyReLU(0.2)\n",
    "        self.lin1 = nn.Linear(observation_size, hidden_size)\n",
    "        self.out = nn.Linear(hidden_size, out_size)\n",
    "    \n",
    "    def forward(self, state):\n",
    "        out = self.lin1(state)\n",
    "        out = self.activation(out)\n",
    "        out = self.out(out)\n",
    "        return nn.functional.softmax(out, dim=-1)\n"
   ]
  },
  {
   "cell_type": "code",
   "execution_count": 22,
   "metadata": {},
   "outputs": [],
   "source": [
    "class Actor:\n",
    "    def __init__(self, gamma, lr, device, observation_size, hidden_size, out_size) -> None:\n",
    "        self.policy = ActorModel(observation_size, hidden_size, out_size)\n",
    "        self.policy = self.policy.to(device)\n",
    "        self.gamma = gamma\n",
    "        self.optim = torch.optim.Adam(self.policy.parameters(), lr)\n",
    "\n",
    "    def get_action(self, action):\n",
    "        probs = self.policy(action)\n",
    "        probs = probs.squeeze()\n",
    "        distribution = torch.distributions.Categorical(probs)\n",
    "        action = distribution.sample()\n",
    "        log_prob = distribution.log_prob(action)\n",
    "        return action, log_prob \n",
    "    \n",
    "    def update(self, reward, next_state_value, state_value, log_prob):\n",
    "        self.optim.zero_grad()\n",
    "        loss = -(reward + self.gamma * next_state_value - state_value) * log_prob\n",
    "        loss = torch.sum(loss)\n",
    "        loss.backward()\n",
    "        self.optim.step()"
   ]
  },
  {
   "cell_type": "code",
   "execution_count": 23,
   "metadata": {},
   "outputs": [],
   "source": [
    "class CriticModel(nn.Module):\n",
    "    def __init__(self, observation_size, hidden_size) -> None:\n",
    "        super().__init__()\n",
    "        self.activation = nn.ReLU()\n",
    "        self.lin1 = nn.Linear(observation_size, hidden_size)\n",
    "        self.lin3 = nn.Linear(hidden_size, 1)\n",
    "    \n",
    "    def forward(self, state):\n",
    "        out = self.lin1(state)\n",
    "        out = self.activation(out)\n",
    "        return self.lin3(out)\n"
   ]
  },
  {
   "cell_type": "code",
   "execution_count": 24,
   "metadata": {},
   "outputs": [],
   "source": [
    "class Critic:\n",
    "    def __init__(self, gamma, lr, device, observation_size, hidden_size) -> None:\n",
    "        self.value_function = CriticModel(observation_size, hidden_size)\n",
    "        self.value_function = self.value_function.to(device)\n",
    "        self.gamma = gamma\n",
    "        self.optim = torch.optim.Adam(self.value_function.parameters(), lr)\n",
    "    \n",
    "    def get_state_value(self, state):\n",
    "        return self.value_function(state)\n",
    "    \n",
    "    def update(self, reward, state_value, next_state_value):\n",
    "        self.optim.zero_grad()\n",
    "        loss = (reward + self.gamma * next_state_value - state_value).pow(2)\n",
    "        loss.backward()\n",
    "        self.optim.step()"
   ]
  },
  {
   "cell_type": "code",
   "execution_count": 25,
   "metadata": {},
   "outputs": [],
   "source": [
    "class Agent:\n",
    "    def __init__(self, env_name, gamma, actor_lr, critic_lr, device, hidden_size_actor, hidden_size_critic) -> None:\n",
    "        self.device = device\n",
    "        env = gym.make(env_name, max_episode_steps=500)\n",
    "        self.test_env = gym.make(env_name, render_mode=\"human\", max_episode_steps=500)\n",
    "        self.env_wrapper = gym.wrappers.AutoResetWrapper(env)\n",
    "        self.actor = Actor(gamma, actor_lr, device, observation_size=env.observation_space.shape[0], hidden_size=hidden_size_actor, out_size=env.action_space.n)\n",
    "        self.critic = Critic(gamma, critic_lr, device, observation_size=env.observation_space.shape[0], hidden_size= hidden_size_critic)\n",
    "    \n",
    "    def learn(self, epochs):\n",
    "        observation, info = self.env_wrapper.reset()\n",
    "        observation = torch.from_numpy(observation).unsqueeze(0).to(self.device)\n",
    "\n",
    "        rewards = []\n",
    "        for epoch in tqdm(range(epochs)):\n",
    "            ep_rewards = []\n",
    "\n",
    "            done = False\n",
    "            while not done:\n",
    "                action, log_prob = self.actor.get_action(observation)\n",
    "                action, log_prob = action.squeeze(), log_prob.squeeze()\n",
    "                first_state_value = self.critic.get_state_value(observation)\n",
    "                first_state_value = first_state_value.squeeze()\n",
    "\n",
    "                observation, reward, terminated, truncated, info = self.env_wrapper.step(action.cpu().numpy())\n",
    "                observation = torch.from_numpy(observation).unsqueeze(0).to(self.device)\n",
    "\n",
    "                done = terminated or truncated\n",
    "                if not done:\n",
    "                    next_state_value = self.critic.get_state_value(observation)\n",
    "                    next_state_value = next_state_value.squeeze()\n",
    "                else:\n",
    "                    next_state_value = torch.tensor(0)\n",
    "\n",
    "                self.critic.update(reward=reward, state_value=first_state_value, next_state_value=next_state_value)\n",
    "                self.actor.update(reward=reward, state_value=first_state_value.detach(), next_state_value=next_state_value.detach(), log_prob=log_prob)\n",
    "                ep_rewards.append(reward)\n",
    "                        \n",
    "            rewards.append(sum(ep_rewards))\n",
    "            \n",
    "            if epoch % 100 == 0:\n",
    "                for _ in range(10):\n",
    "                    done = False\n",
    "                    test_observation, info = self.test_env.reset()\n",
    "                    test_observation = torch.from_numpy(test_observation).unsqueeze(0).to(self.device)\n",
    "                    while not done:\n",
    "                        with torch.no_grad():\n",
    "                            action, _ = self.actor.get_action(test_observation)\n",
    "                            action = action.squeeze()\n",
    "                        test_observation, _, terminated, truncated, _ = self.test_env.step(action.cpu().numpy())\n",
    "                        test_observation = torch.from_numpy(test_observation).unsqueeze(0).to(self.device)\n",
    "                        done = terminated or truncated\n",
    "                print(f\"Episode {epoch}\\t Mean reward = {sum(rewards)/len(rewards)}\")\n",
    "                rewards = []\n",
    "        self.test_env.close()\n"
   ]
  },
  {
   "cell_type": "code",
   "execution_count": 26,
   "metadata": {},
   "outputs": [],
   "source": [
    "agent = Agent(\n",
    "    env_name=\"LunarLander-v2\",\n",
    "    gamma=0.99,\n",
    "    actor_lr=0.0003,\n",
    "    critic_lr=0.0003,\n",
    "    device=torch.device(\"cuda\") if torch.cuda.is_available() else torch.device(\"cpu\"),\n",
    "    hidden_size_actor=128,\n",
    "    hidden_size_critic=128\n",
    ")"
   ]
  },
  {
   "cell_type": "code",
   "execution_count": 27,
   "metadata": {},
   "outputs": [
    {
     "name": "stderr",
     "output_type": "stream",
     "text": [
      "  0%|          | 1/5000 [00:21<29:47:11, 21.45s/it]"
     ]
    },
    {
     "name": "stdout",
     "output_type": "stream",
     "text": [
      "Episode 0\t Mean reward = -44.37886048115726\n"
     ]
    },
    {
     "name": "stderr",
     "output_type": "stream",
     "text": [
      "  2%|▏         | 101/5000 [02:08<24:28:24, 17.98s/it]"
     ]
    },
    {
     "name": "stdout",
     "output_type": "stream",
     "text": [
      "Episode 100\t Mean reward = -188.90449342421743\n"
     ]
    },
    {
     "name": "stderr",
     "output_type": "stream",
     "text": [
      "  4%|▍         | 201/5000 [05:42<36:32:04, 27.41s/it]"
     ]
    },
    {
     "name": "stdout",
     "output_type": "stream",
     "text": [
      "Episode 200\t Mean reward = -110.15812566757918\n"
     ]
    },
    {
     "name": "stderr",
     "output_type": "stream",
     "text": [
      "  6%|▌         | 301/5000 [09:33<34:54:49, 26.75s/it]"
     ]
    },
    {
     "name": "stdout",
     "output_type": "stream",
     "text": [
      "Episode 300\t Mean reward = -99.86985433964301\n"
     ]
    },
    {
     "name": "stderr",
     "output_type": "stream",
     "text": [
      "  8%|▊         | 401/5000 [13:35<34:36:31, 27.09s/it]"
     ]
    },
    {
     "name": "stdout",
     "output_type": "stream",
     "text": [
      "Episode 400\t Mean reward = -66.08879226071484\n"
     ]
    },
    {
     "name": "stderr",
     "output_type": "stream",
     "text": [
      " 10%|█         | 501/5000 [18:04<35:33:07, 28.45s/it]"
     ]
    },
    {
     "name": "stdout",
     "output_type": "stream",
     "text": [
      "Episode 500\t Mean reward = -70.70048310471535\n"
     ]
    },
    {
     "name": "stderr",
     "output_type": "stream",
     "text": [
      " 12%|█▏        | 601/5000 [22:06<36:30:02, 29.87s/it]"
     ]
    },
    {
     "name": "stdout",
     "output_type": "stream",
     "text": [
      "Episode 600\t Mean reward = -59.64430906998118\n"
     ]
    },
    {
     "name": "stderr",
     "output_type": "stream",
     "text": [
      " 14%|█▍        | 701/5000 [26:04<34:00:04, 28.47s/it]"
     ]
    },
    {
     "name": "stdout",
     "output_type": "stream",
     "text": [
      "Episode 700\t Mean reward = -53.69280277567734\n"
     ]
    },
    {
     "name": "stderr",
     "output_type": "stream",
     "text": [
      " 16%|█▌        | 801/5000 [30:10<35:49:39, 30.72s/it]"
     ]
    },
    {
     "name": "stdout",
     "output_type": "stream",
     "text": [
      "Episode 800\t Mean reward = -72.92890242792123\n"
     ]
    },
    {
     "name": "stderr",
     "output_type": "stream",
     "text": [
      " 18%|█▊        | 901/5000 [34:14<33:40:47, 29.58s/it]"
     ]
    },
    {
     "name": "stdout",
     "output_type": "stream",
     "text": [
      "Episode 900\t Mean reward = -51.952124271450074\n"
     ]
    },
    {
     "name": "stderr",
     "output_type": "stream",
     "text": [
      " 20%|██        | 1001/5000 [38:28<34:56:40, 31.46s/it]"
     ]
    },
    {
     "name": "stdout",
     "output_type": "stream",
     "text": [
      "Episode 1000\t Mean reward = -68.71974778543132\n"
     ]
    },
    {
     "name": "stderr",
     "output_type": "stream",
     "text": [
      " 22%|██▏       | 1101/5000 [42:34<30:48:28, 28.45s/it]"
     ]
    },
    {
     "name": "stdout",
     "output_type": "stream",
     "text": [
      "Episode 1100\t Mean reward = -49.73753179388853\n"
     ]
    },
    {
     "name": "stderr",
     "output_type": "stream",
     "text": [
      " 24%|██▍       | 1201/5000 [46:50<33:44:55, 31.98s/it]"
     ]
    },
    {
     "name": "stdout",
     "output_type": "stream",
     "text": [
      "Episode 1200\t Mean reward = -66.14909050301968\n"
     ]
    },
    {
     "name": "stderr",
     "output_type": "stream",
     "text": [
      " 26%|██▌       | 1301/5000 [51:04<32:51:42, 31.98s/it]"
     ]
    },
    {
     "name": "stdout",
     "output_type": "stream",
     "text": [
      "Episode 1300\t Mean reward = -63.71828729222067\n"
     ]
    },
    {
     "name": "stderr",
     "output_type": "stream",
     "text": [
      " 28%|██▊       | 1401/5000 [55:28<31:37:12, 31.63s/it]"
     ]
    },
    {
     "name": "stdout",
     "output_type": "stream",
     "text": [
      "Episode 1400\t Mean reward = -74.87543334694847\n"
     ]
    },
    {
     "name": "stderr",
     "output_type": "stream",
     "text": [
      " 30%|███       | 1501/5000 [59:51<31:06:50, 32.01s/it]"
     ]
    },
    {
     "name": "stdout",
     "output_type": "stream",
     "text": [
      "Episode 1500\t Mean reward = -64.00129977374881\n"
     ]
    },
    {
     "name": "stderr",
     "output_type": "stream",
     "text": [
      " 32%|███▏      | 1601/5000 [1:04:15<30:12:44, 32.00s/it]"
     ]
    },
    {
     "name": "stdout",
     "output_type": "stream",
     "text": [
      "Episode 1600\t Mean reward = -72.69347831896879\n"
     ]
    },
    {
     "name": "stderr",
     "output_type": "stream",
     "text": [
      " 34%|███▍      | 1701/5000 [1:08:42<29:02:44, 31.70s/it]"
     ]
    },
    {
     "name": "stdout",
     "output_type": "stream",
     "text": [
      "Episode 1700\t Mean reward = -67.08139972834347\n"
     ]
    },
    {
     "name": "stderr",
     "output_type": "stream",
     "text": [
      " 36%|███▌      | 1801/5000 [1:13:02<28:21:29, 31.91s/it]"
     ]
    },
    {
     "name": "stdout",
     "output_type": "stream",
     "text": [
      "Episode 1800\t Mean reward = -43.636396605961124\n"
     ]
    },
    {
     "name": "stderr",
     "output_type": "stream",
     "text": [
      " 38%|███▊      | 1901/5000 [1:17:15<25:33:46, 29.70s/it]"
     ]
    },
    {
     "name": "stdout",
     "output_type": "stream",
     "text": [
      "Episode 1900\t Mean reward = -41.22268433580156\n"
     ]
    },
    {
     "name": "stderr",
     "output_type": "stream",
     "text": [
      " 40%|████      | 2001/5000 [1:21:38<26:37:26, 31.96s/it]"
     ]
    },
    {
     "name": "stdout",
     "output_type": "stream",
     "text": [
      "Episode 2000\t Mean reward = -34.492464438475174\n"
     ]
    },
    {
     "name": "stderr",
     "output_type": "stream",
     "text": [
      " 42%|████▏     | 2101/5000 [1:26:03<25:01:44, 31.08s/it]"
     ]
    },
    {
     "name": "stdout",
     "output_type": "stream",
     "text": [
      "Episode 2100\t Mean reward = -57.32520203814877\n"
     ]
    },
    {
     "name": "stderr",
     "output_type": "stream",
     "text": [
      " 44%|████▍     | 2201/5000 [1:30:23<24:52:00, 31.98s/it]"
     ]
    },
    {
     "name": "stdout",
     "output_type": "stream",
     "text": [
      "Episode 2200\t Mean reward = -58.84065636780387\n"
     ]
    },
    {
     "name": "stderr",
     "output_type": "stream",
     "text": [
      " 46%|████▌     | 2301/5000 [1:34:36<22:34:41, 30.12s/it]"
     ]
    },
    {
     "name": "stdout",
     "output_type": "stream",
     "text": [
      "Episode 2300\t Mean reward = -39.23274531166462\n"
     ]
    },
    {
     "name": "stderr",
     "output_type": "stream",
     "text": [
      " 48%|████▊     | 2401/5000 [1:38:59<23:03:04, 31.93s/it]"
     ]
    },
    {
     "name": "stdout",
     "output_type": "stream",
     "text": [
      "Episode 2400\t Mean reward = -42.892657898951505\n"
     ]
    },
    {
     "name": "stderr",
     "output_type": "stream",
     "text": [
      " 50%|█████     | 2501/5000 [1:43:32<21:55:34, 31.59s/it]"
     ]
    },
    {
     "name": "stdout",
     "output_type": "stream",
     "text": [
      "Episode 2500\t Mean reward = -46.86751174185342\n"
     ]
    },
    {
     "name": "stderr",
     "output_type": "stream",
     "text": [
      " 52%|█████▏    | 2600/5000 [1:46:15<1:11:56,  1.80s/it] "
     ]
    }
   ],
   "source": [
    "agent.learn(5000)"
   ]
  }
 ],
 "metadata": {
  "kernelspec": {
   "display_name": "ssne",
   "language": "python",
   "name": "python3"
  },
  "language_info": {
   "codemirror_mode": {
    "name": "ipython",
    "version": 3
   },
   "file_extension": ".py",
   "mimetype": "text/x-python",
   "name": "python",
   "nbconvert_exporter": "python",
   "pygments_lexer": "ipython3",
   "version": "3.10.4"
  },
  "orig_nbformat": 4,
  "vscode": {
   "interpreter": {
    "hash": "2a38050f8ca24262ead381cbc68a5f26ee5ce1e0f01d0472f124efe95ebd2613"
   }
  }
 },
 "nbformat": 4,
 "nbformat_minor": 2
}
