{
 "cells": [
  {
   "cell_type": "code",
   "execution_count": 1,
   "metadata": {},
   "outputs": [],
   "source": [
    "import gymnasium as gym\n",
    "import torch\n",
    "from torch import nn as nn\n",
    "from tqdm import tqdm"
   ]
  },
  {
   "cell_type": "code",
   "execution_count": 2,
   "metadata": {},
   "outputs": [],
   "source": [
    "class ActorModel(nn.Module):\n",
    "    def __init__(self) -> None:\n",
    "        super().__init__()\n",
    "        self.activation = nn.LeakyReLU(0.2)\n",
    "        self.lin1 = nn.Linear(4, 128)\n",
    "        self.out = nn.Linear(128, 2)\n",
    "    \n",
    "    def forward(self, state):\n",
    "        out = self.lin1(state)\n",
    "        out = self.activation(out)\n",
    "        out = self.out(out)\n",
    "        return nn.functional.softmax(out, dim=-1)\n"
   ]
  },
  {
   "cell_type": "code",
   "execution_count": 3,
   "metadata": {},
   "outputs": [],
   "source": [
    "class Actor:\n",
    "    def __init__(self, gamma, lr, device) -> None:\n",
    "        self.policy = ActorModel()\n",
    "        self.policy = self.policy.to(device)\n",
    "        self.gamma = gamma\n",
    "        self.optim = torch.optim.Adam(self.policy.parameters(), lr)\n",
    "\n",
    "    def get_action(self, action):\n",
    "        probs = self.policy(action)\n",
    "        probs = probs.squeeze()\n",
    "        distribution = torch.distributions.Categorical(probs)\n",
    "        action = distribution.sample()\n",
    "        log_prob = distribution.log_prob(action)\n",
    "        return action, log_prob \n",
    "    \n",
    "    def update(self, reward, next_state_value, state_value, log_prob):\n",
    "        self.optim.zero_grad()\n",
    "        loss = -(reward + self.gamma * next_state_value - state_value) * log_prob\n",
    "        loss = torch.sum(loss)\n",
    "        loss.backward()\n",
    "        self.optim.step()"
   ]
  },
  {
   "cell_type": "code",
   "execution_count": 4,
   "metadata": {},
   "outputs": [],
   "source": [
    "class CriticModel(nn.Module):\n",
    "    def __init__(self) -> None:\n",
    "        super().__init__()\n",
    "        self.activation = nn.ReLU()\n",
    "        self.lin1 = nn.Linear(4, 128)\n",
    "        self.lin3 = nn.Linear(128, 1)\n",
    "    \n",
    "    def forward(self, state):\n",
    "        out = self.lin1(state)\n",
    "        out = self.activation(out)\n",
    "        return self.lin3(out)\n"
   ]
  },
  {
   "cell_type": "code",
   "execution_count": 5,
   "metadata": {},
   "outputs": [],
   "source": [
    "class Critic:\n",
    "    def __init__(self, gamma, lr, device) -> None:\n",
    "        self.value_function = CriticModel()\n",
    "        self.value_function = self.value_function.to(device)\n",
    "        self.gamma = gamma\n",
    "        self.optim = torch.optim.Adam(self.value_function.parameters(), lr)\n",
    "    \n",
    "    def get_state_value(self, state):\n",
    "        return self.value_function(state)\n",
    "    \n",
    "    def update(self, reward, state_value, next_state_value):\n",
    "        self.optim.zero_grad()\n",
    "        loss = (reward + self.gamma * next_state_value - state_value).pow(2)\n",
    "        loss.backward()\n",
    "        self.optim.step()"
   ]
  },
  {
   "cell_type": "code",
   "execution_count": 6,
   "metadata": {},
   "outputs": [],
   "source": [
    "class Agent:\n",
    "    def __init__(self, gamma, actor_lr, critic_lr, device) -> None:\n",
    "        self.device = device\n",
    "        env = gym.make(\"CartPole-v1\", max_episode_steps=500)\n",
    "        # self.test_env = gym.make(\"CartPole-v1\", render_mode=\"human\", max_episode_steps=500)\n",
    "        self.env_wrapper = gym.wrappers.AutoResetWrapper(env)\n",
    "        self.actor = Actor(gamma, actor_lr, device)\n",
    "        self.critic = Critic(gamma, critic_lr, device)\n",
    "    \n",
    "    def learn(self, epochs):\n",
    "        observation, info = self.env_wrapper.reset()\n",
    "        observation = torch.from_numpy(observation).unsqueeze(0).to(self.device)\n",
    "\n",
    "        rewards = []\n",
    "        for epoch in tqdm(range(epochs)):\n",
    "            ep_rewards = []\n",
    "\n",
    "            done = False\n",
    "            while not done:\n",
    "                action, log_prob = self.actor.get_action(observation)\n",
    "                action, log_prob = action.squeeze(), log_prob.squeeze()\n",
    "                first_state_value = self.critic.get_state_value(observation)\n",
    "                first_state_value = first_state_value.squeeze()\n",
    "\n",
    "                observation, reward, terminated, truncated, info = self.env_wrapper.step(action.cpu().numpy())\n",
    "                observation = torch.from_numpy(observation).unsqueeze(0).to(self.device)\n",
    "\n",
    "                done = terminated or truncated\n",
    "                if not done:\n",
    "                    next_state_value = self.critic.get_state_value(observation)\n",
    "                    next_state_value = next_state_value.squeeze()\n",
    "                else:\n",
    "                    next_state_value = torch.tensor(0)\n",
    "\n",
    "                self.critic.update(reward=reward, state_value=first_state_value, next_state_value=next_state_value)\n",
    "                self.actor.update(reward=reward, state_value=first_state_value.detach(), next_state_value=next_state_value.detach(), log_prob=log_prob)\n",
    "                ep_rewards.append(reward)\n",
    "                        \n",
    "            rewards.append(sum(ep_rewards))\n",
    "            \n",
    "            if epoch % 500 == 0:\n",
    "                # for _ in range(10):\n",
    "                #     done = False\n",
    "                #     test_observation, info = self.test_env.reset()\n",
    "                #     test_observation = torch.from_numpy(test_observation).unsqueeze(0).to(self.device)\n",
    "                #     while not done:\n",
    "                #         with torch.no_grad():\n",
    "                #             action, _ = self.actor.get_action(test_observation)\n",
    "                #             action = action.squeeze()\n",
    "                #         test_observation, _, terminated, truncated, _ = self.env_wrapper.step(action.cpu().numpy())\n",
    "                #         test_observation = torch.from_numpy(test_observation).unsqueeze(0).to(self.device)\n",
    "                #         done = terminated or truncated\n",
    "                print(f\"Episode {epoch}\\t Mean reward = {sum(rewards)/len(rewards)}\")\n",
    "                rewards = []\n",
    "        self.test_env.close()\n"
   ]
  },
  {
   "cell_type": "code",
   "execution_count": 7,
   "metadata": {},
   "outputs": [],
   "source": [
    "agent = Agent(0.99, 0.0003, 0.0003, torch.device(\"cuda\") if torch.cuda.is_available() else torch.device(\"cpu\"))"
   ]
  },
  {
   "cell_type": "code",
   "execution_count": 8,
   "metadata": {},
   "outputs": [
    {
     "name": "stderr",
     "output_type": "stream",
     "text": [
      "  0%|          | 4/50000 [00:01<2:52:45,  4.82it/s] "
     ]
    },
    {
     "name": "stdout",
     "output_type": "stream",
     "text": [
      "Episode 0\t Mean reward = 31.0\n"
     ]
    },
    {
     "name": "stderr",
     "output_type": "stream",
     "text": [
      "  0%|          | 234/50000 [00:24<1:27:16,  9.50it/s]\n"
     ]
    },
    {
     "ename": "KeyboardInterrupt",
     "evalue": "",
     "output_type": "error",
     "traceback": [
      "\u001b[0;31m---------------------------------------------------------------------------\u001b[0m",
      "\u001b[0;31mKeyboardInterrupt\u001b[0m                         Traceback (most recent call last)",
      "Cell \u001b[0;32mIn [8], line 1\u001b[0m\n\u001b[0;32m----> 1\u001b[0m agent\u001b[39m.\u001b[39;49mlearn(\u001b[39m50000\u001b[39;49m)\n",
      "Cell \u001b[0;32mIn [6], line 20\u001b[0m, in \u001b[0;36mAgent.learn\u001b[0;34m(self, epochs)\u001b[0m\n\u001b[1;32m     18\u001b[0m done \u001b[39m=\u001b[39m \u001b[39mFalse\u001b[39;00m\n\u001b[1;32m     19\u001b[0m \u001b[39mwhile\u001b[39;00m \u001b[39mnot\u001b[39;00m done:\n\u001b[0;32m---> 20\u001b[0m     action, log_prob \u001b[39m=\u001b[39m \u001b[39mself\u001b[39;49m\u001b[39m.\u001b[39;49mactor\u001b[39m.\u001b[39;49mget_action(observation)\n\u001b[1;32m     21\u001b[0m     action, log_prob \u001b[39m=\u001b[39m action\u001b[39m.\u001b[39msqueeze(), log_prob\u001b[39m.\u001b[39msqueeze()\n\u001b[1;32m     22\u001b[0m     first_state_value \u001b[39m=\u001b[39m \u001b[39mself\u001b[39m\u001b[39m.\u001b[39mcritic\u001b[39m.\u001b[39mget_state_value(observation)\n",
      "Cell \u001b[0;32mIn [3], line 9\u001b[0m, in \u001b[0;36mActor.get_action\u001b[0;34m(self, action)\u001b[0m\n\u001b[1;32m      8\u001b[0m \u001b[39mdef\u001b[39;00m \u001b[39mget_action\u001b[39m(\u001b[39mself\u001b[39m, action):\n\u001b[0;32m----> 9\u001b[0m     probs \u001b[39m=\u001b[39m \u001b[39mself\u001b[39;49m\u001b[39m.\u001b[39;49mpolicy(action)\n\u001b[1;32m     10\u001b[0m     probs \u001b[39m=\u001b[39m probs\u001b[39m.\u001b[39msqueeze()\n\u001b[1;32m     11\u001b[0m     distribution \u001b[39m=\u001b[39m torch\u001b[39m.\u001b[39mdistributions\u001b[39m.\u001b[39mCategorical(probs)\n",
      "File \u001b[0;32m~/anaconda3/envs/ssne/lib/python3.10/site-packages/torch/nn/modules/module.py:1130\u001b[0m, in \u001b[0;36mModule._call_impl\u001b[0;34m(self, *input, **kwargs)\u001b[0m\n\u001b[1;32m   1126\u001b[0m \u001b[39m# If we don't have any hooks, we want to skip the rest of the logic in\u001b[39;00m\n\u001b[1;32m   1127\u001b[0m \u001b[39m# this function, and just call forward.\u001b[39;00m\n\u001b[1;32m   1128\u001b[0m \u001b[39mif\u001b[39;00m \u001b[39mnot\u001b[39;00m (\u001b[39mself\u001b[39m\u001b[39m.\u001b[39m_backward_hooks \u001b[39mor\u001b[39;00m \u001b[39mself\u001b[39m\u001b[39m.\u001b[39m_forward_hooks \u001b[39mor\u001b[39;00m \u001b[39mself\u001b[39m\u001b[39m.\u001b[39m_forward_pre_hooks \u001b[39mor\u001b[39;00m _global_backward_hooks\n\u001b[1;32m   1129\u001b[0m         \u001b[39mor\u001b[39;00m _global_forward_hooks \u001b[39mor\u001b[39;00m _global_forward_pre_hooks):\n\u001b[0;32m-> 1130\u001b[0m     \u001b[39mreturn\u001b[39;00m forward_call(\u001b[39m*\u001b[39;49m\u001b[39minput\u001b[39;49m, \u001b[39m*\u001b[39;49m\u001b[39m*\u001b[39;49mkwargs)\n\u001b[1;32m   1131\u001b[0m \u001b[39m# Do not call functions when jit is used\u001b[39;00m\n\u001b[1;32m   1132\u001b[0m full_backward_hooks, non_full_backward_hooks \u001b[39m=\u001b[39m [], []\n",
      "Cell \u001b[0;32mIn [2], line 12\u001b[0m, in \u001b[0;36mActorModel.forward\u001b[0;34m(self, state)\u001b[0m\n\u001b[1;32m     10\u001b[0m out \u001b[39m=\u001b[39m \u001b[39mself\u001b[39m\u001b[39m.\u001b[39mactivation(out)\n\u001b[1;32m     11\u001b[0m out \u001b[39m=\u001b[39m \u001b[39mself\u001b[39m\u001b[39m.\u001b[39mout(out)\n\u001b[0;32m---> 12\u001b[0m \u001b[39mreturn\u001b[39;00m nn\u001b[39m.\u001b[39;49mfunctional\u001b[39m.\u001b[39;49msoftmax(out, dim\u001b[39m=\u001b[39;49m\u001b[39m-\u001b[39;49m\u001b[39m1\u001b[39;49m)\n",
      "File \u001b[0;32m~/anaconda3/envs/ssne/lib/python3.10/site-packages/torch/nn/functional.py:1834\u001b[0m, in \u001b[0;36msoftmax\u001b[0;34m(input, dim, _stacklevel, dtype)\u001b[0m\n\u001b[1;32m   1832\u001b[0m     dim \u001b[39m=\u001b[39m _get_softmax_dim(\u001b[39m\"\u001b[39m\u001b[39msoftmax\u001b[39m\u001b[39m\"\u001b[39m, \u001b[39minput\u001b[39m\u001b[39m.\u001b[39mdim(), _stacklevel)\n\u001b[1;32m   1833\u001b[0m \u001b[39mif\u001b[39;00m dtype \u001b[39mis\u001b[39;00m \u001b[39mNone\u001b[39;00m:\n\u001b[0;32m-> 1834\u001b[0m     ret \u001b[39m=\u001b[39m \u001b[39minput\u001b[39;49m\u001b[39m.\u001b[39;49msoftmax(dim)\n\u001b[1;32m   1835\u001b[0m \u001b[39melse\u001b[39;00m:\n\u001b[1;32m   1836\u001b[0m     ret \u001b[39m=\u001b[39m \u001b[39minput\u001b[39m\u001b[39m.\u001b[39msoftmax(dim, dtype\u001b[39m=\u001b[39mdtype)\n",
      "\u001b[0;31mKeyboardInterrupt\u001b[0m: "
     ]
    }
   ],
   "source": [
    "agent.learn(50000)"
   ]
  },
  {
   "cell_type": "code",
   "execution_count": 52,
   "metadata": {},
   "outputs": [],
   "source": [
    "agent.env.close()"
   ]
  },
  {
   "cell_type": "code",
   "execution_count": null,
   "metadata": {},
   "outputs": [],
   "source": []
  }
 ],
 "metadata": {
  "kernelspec": {
   "display_name": "ssne",
   "language": "python",
   "name": "python3"
  },
  "language_info": {
   "codemirror_mode": {
    "name": "ipython",
    "version": 3
   },
   "file_extension": ".py",
   "mimetype": "text/x-python",
   "name": "python",
   "nbconvert_exporter": "python",
   "pygments_lexer": "ipython3",
   "version": "3.10.4"
  },
  "orig_nbformat": 4,
  "vscode": {
   "interpreter": {
    "hash": "2a38050f8ca24262ead381cbc68a5f26ee5ce1e0f01d0472f124efe95ebd2613"
   }
  }
 },
 "nbformat": 4,
 "nbformat_minor": 2
}
